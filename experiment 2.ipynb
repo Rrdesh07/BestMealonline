{
  "nbformat": 4,
  "nbformat_minor": 0,
  "metadata": {
    "colab": {
      "provenance": [],
      "collapsed_sections": [],
      "authorship_tag": "ABX9TyPZJGX67vtH+/hpOOPZGMus",
      "include_colab_link": true
    },
    "kernelspec": {
      "name": "python3",
      "display_name": "Python 3"
    },
    "language_info": {
      "name": "python"
    }
  },
  "cells": [
    {
      "cell_type": "markdown",
      "metadata": {
        "id": "view-in-github",
        "colab_type": "text"
      },
      "source": [
        "<a href=\"https://colab.research.google.com/github/Rrdesh07/BestMealonline/blob/main/experiment%202.ipynb\" target=\"_parent\"><img src=\"https://colab.research.google.com/assets/colab-badge.svg\" alt=\"Open In Colab\"/></a>"
      ]
    },
    {
      "cell_type": "code",
      "execution_count": null,
      "metadata": {
        "id": "C48Grpo3fxmQ"
      },
      "outputs": [],
      "source": [
        "import tensorflow as tf \n",
        "from tensorflow.keras.models import Sequential\n",
        "from tensorflow.keras.layers import Dense\n",
        "from tensorflow.keras.layers import Dropout,Flatten\n",
        "import matplotlib.pyplot as plt\n",
        "import seaborn as sns\n"
      ]
    },
    {
      "cell_type": "code",
      "source": [
        "mnist = tf.keras.datasets.mnist\n",
        "(x_train,y_train),(x_test,y_test) = mnist.load_data()\n",
        "x_train, x_test = x_train/255.0 , x_test/255.0 "
      ],
      "metadata": {
        "colab": {
          "base_uri": "https://localhost:8080/"
        },
        "id": "0rgoSHOhgqKn",
        "outputId": "7e3edb46-e223-4cbc-bdcc-43c97a644960"
      },
      "execution_count": null,
      "outputs": [
        {
          "output_type": "stream",
          "name": "stdout",
          "text": [
            "Downloading data from https://storage.googleapis.com/tensorflow/tf-keras-datasets/mnist.npz\n",
            "11490434/11490434 [==============================] - 0s 0us/step\n"
          ]
        }
      ]
    },
    {
      "cell_type": "code",
      "source": [
        "sns.heatmap(x_train[0])\n",
        "plt.show()"
      ],
      "metadata": {
        "colab": {
          "base_uri": "https://localhost:8080/",
          "height": 269
        },
        "id": "VXQcZOwljB7o",
        "outputId": "7b9c21f1-e39b-4a2c-964a-8720aab84769"
      },
      "execution_count": null,
      "outputs": [
        {
          "output_type": "display_data",
          "data": {
            "text/plain": [
              "<Figure size 432x288 with 2 Axes>"
            ],
            "image/png": "[encoded data removed]"
          },
          "metadata": {
            "needs_background": "light"
          }
        }
      ]
    },
    {
      "cell_type": "code",
      "source": [
        "model =Sequential([\n",
        "    Flatten (input_shape=(28,28)),\n",
        "    Dense(128,activation=\"relu\"),\n",
        "    Dropout(0.2),\n",
        "    Dense(10)\n",
        "])"
      ],
      "metadata": {
        "id": "G6jcAhKHjSh5"
      },
      "execution_count": null,
      "outputs": []
    },
    {
      "cell_type": "code",
      "source": [
        "predictions = model(x_train[:1]).numpy()\n",
        "predictions"
      ],
      "metadata": {
        "colab": {
          "base_uri": "https://localhost:8080/"
        },
        "id": "wb9ageitkRlN",
        "outputId": "908df82d-2aa5-4e46-cfa8-84e5f20f161a"
      },
      "execution_count": null,
      "outputs": [
        {
          "output_type": "execute_result",
          "data": {
            "text/plain": [
              "array([[ 0.68633586,  0.44373903, -0.70573044, -0.09723883, -0.16733432,\n",
              "         0.40661982, -0.5683154 , -0.14921997, -0.1127259 , -0.08747938]],\n",
              "      dtype=float32)"
            ]
          },
          "metadata": {},
          "execution_count": 10
        }
      ]
    },
    {
      "cell_type": "code",
      "source": [
        "tf.nn.softmax(predictions).numpy()"
      ],
      "metadata": {
        "colab": {
          "base_uri": "https://localhost:8080/"
        },
        "id": "DlZT1JsKkbuN",
        "outputId": "c886013e-c364-414a-d3e8-297435a413eb"
      },
      "execution_count": null,
      "outputs": [
        {
          "output_type": "execute_result",
          "data": {
            "text/plain": [
              "array([[0.18862315, 0.1479914 , 0.04688439, 0.08615745, 0.080325  ,\n",
              "        0.14259881, 0.05379065, 0.08179329, 0.0848334 , 0.08700242]],\n",
              "      dtype=float32)"
            ]
          },
          "metadata": {},
          "execution_count": 11
        }
      ]
    },
    {
      "cell_type": "code",
      "source": [
        "loss_fn= tf.keras.losses.SparseCategoricalCrossentropy(from_logits=True)\n"
      ],
      "metadata": {
        "id": "lN0ebPgdknMJ"
      },
      "execution_count": null,
      "outputs": []
    },
    {
      "cell_type": "code",
      "source": [
        "model.compile(optimizer=\"adam\", loss = loss_fn, metrics=[\"accuracy\"])\n"
      ],
      "metadata": {
        "id": "w6mYgc14k1a5"
      },
      "execution_count": null,
      "outputs": []
    },
    {
      "cell_type": "code",
      "source": [
        " model.fit(x_train, y_train, epochs=5)\n"
      ],
      "metadata": {
        "colab": {
          "base_uri": "https://localhost:8080/"
        },
        "id": "8dvHbjqfls9y",
        "outputId": "45512819-2e79-4707-94b6-53089d2eafe4"
      },
      "execution_count": null,
      "outputs": [
        {
          "output_type": "stream",
          "name": "stdout",
          "text": [
            "Epoch 1/5\n",
            "1875/1875 [==============================] - 9s 5ms/step - loss: 0.3056 - accuracy: 0.9107\n",
            "Epoch 2/5\n",
            "1875/1875 [==============================] - 8s 4ms/step - loss: 0.1444 - accuracy: 0.9571\n",
            "Epoch 3/5\n",
            "1875/1875 [==============================] - 8s 4ms/step - loss: 0.1080 - accuracy: 0.9677\n",
            "Epoch 4/5\n",
            "1875/1875 [==============================] - 7s 4ms/step - loss: 0.0879 - accuracy: 0.9731\n",
            "Epoch 5/5\n",
            "1875/1875 [==============================] - 7s 4ms/step - loss: 0.0742 - accuracy: 0.9762\n"
          ]
        },
        {
          "output_type": "execute_result",
          "data": {
            "text/plain": [
              "<keras.callbacks.History at 0x7f3e909ded90>"
            ]
          },
          "metadata": {},
          "execution_count": 14
        }
      ]
    },
    {
      "cell_type": "code",
      "source": [
        "model.evaluate(x_test, y_test, verbose=2)"
      ],
      "metadata": {
        "colab": {
          "base_uri": "https://localhost:8080/"
        },
        "id": "TIF7jv6bmK0J",
        "outputId": "db1d7abb-46ac-4d9e-b5b0-08c7ac144f0c"
      },
      "execution_count": null,
      "outputs": [
        {
          "output_type": "stream",
          "name": "stdout",
          "text": [
            "313/313 - 1s - loss: 0.0792 - accuracy: 0.9759 - 738ms/epoch - 2ms/step\n"
          ]
        },
        {
          "output_type": "execute_result",
          "data": {
            "text/plain": [
              "[0.07919877022504807, 0.9758999943733215]"
            ]
          },
          "metadata": {},
          "execution_count": 15
        }
      ]
    },
    {
      "cell_type": "code",
      "source": [
        "val = model.fit(x_train, y_train, epochs=5, \n",
        "validation_data=(x_test, y_test), batch_size=200)\n"
      ],
      "metadata": {
        "colab": {
          "base_uri": "https://localhost:8080/"
        },
        "id": "afJaoBi6mOnR",
        "outputId": "a1ef04b2-4db2-4682-e31c-e505f2a63c77"
      },
      "execution_count": null,
      "outputs": [
        {
          "output_type": "stream",
          "name": "stdout",
          "text": [
            "Epoch 1/5\n",
            "300/300 [==============================] - 3s 8ms/step - loss: 0.0525 - accuracy: 0.9837 - val_loss: 0.0654 - val_accuracy: 0.9798\n",
            "Epoch 2/5\n",
            "300/300 [==============================] - 2s 8ms/step - loss: 0.0469 - accuracy: 0.9857 - val_loss: 0.0648 - val_accuracy: 0.9810\n",
            "Epoch 3/5\n",
            "300/300 [==============================] - 2s 7ms/step - loss: 0.0443 - accuracy: 0.9867 - val_loss: 0.0621 - val_accuracy: 0.9810\n",
            "Epoch 4/5\n",
            "300/300 [==============================] - 3s 10ms/step - loss: 0.0430 - accuracy: 0.9864 - val_loss: 0.0633 - val_accuracy: 0.9809\n",
            "Epoch 5/5\n",
            "300/300 [==============================] - 3s 10ms/step - loss: 0.0401 - accuracy: 0.9874 - val_loss: 0.0618 - val_accuracy: 0.9829\n"
          ]
        }
      ]
    },
    {
      "cell_type": "code",
      "source": [
        "plt.plot(val.history[\"accuracy\"])\n",
        "plt.plot(val.history[\"val_accuracy\"])\n",
        "plt.legend([\"train\",\"val\"])\n",
        "plt.show()"
      ],
      "metadata": {
        "colab": {
          "base_uri": "https://localhost:8080/",
          "height": 265
        },
        "id": "1bqaWAamnqc0",
        "outputId": "bf847a32-b1cd-40d3-c9b5-c561bbbb95af"
      },
      "execution_count": null,
      "outputs": [
        {
          "output_type": "display_data",
          "data": {
            "text/plain": [
              "<Figure size 432x288 with 1 Axes>"
            ],
            "image/png": "[encoded data removed]"
          },
          "metadata": {
            "needs_background": "light"
          }
        }
      ]
    }
  ]
}